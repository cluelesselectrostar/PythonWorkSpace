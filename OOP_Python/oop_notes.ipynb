{
 "metadata": {
  "language_info": {
   "codemirror_mode": {
    "name": "ipython",
    "version": 3
   },
   "file_extension": ".py",
   "mimetype": "text/x-python",
   "name": "python",
   "nbconvert_exporter": "python",
   "pygments_lexer": "ipython3",
   "version": "3.8.3-final"
  },
  "orig_nbformat": 2,
  "kernelspec": {
   "name": "python_defaultSpec_1600184709609",
   "display_name": "Python 3.8.3 64-bit ('base': conda)"
  }
 },
 "nbformat": 4,
 "nbformat_minor": 2,
 "cells": [
  {
   "source": [
    "# Object Oriented Programming on Python\n",
    "\n",
    "- Within the class, the object itself is passed as self.\n",
    "- Outside the class, the object is passed automatically, so there is omitted from the input parameters.\n",
    "\n",
    "## Class vs Instance Variables\n",
    "- Class variables are same for each instance of the object\n",
    "- Instance variables are different for unique object instances.\n"
   ],
   "cell_type": "markdown",
   "metadata": {}
  },
  {
   "cell_type": "code",
   "execution_count": 1,
   "metadata": {
    "tags": []
   },
   "outputs": [
    {
     "output_type": "stream",
     "name": "stdout",
     "text": "Corey schafer\nCorey schafer\n"
    }
   ],
   "source": [
    "# Define a class\n",
    "class Employee:\n",
    "\t\n",
    "\t# Class variable\n",
    "\tnum_of_emps = 0\n",
    "\traise_amount = 1.04\n",
    "\t\n",
    "\t# Constructor (initialise members)\n",
    "\tdef __init__(self, first, last, pay):\n",
    "\t\tself.first = first\n",
    "\t\tself.last = last\n",
    "\t\tself.pay = pay\n",
    "\t\tself.email = first + last + \"@company.com\"\n",
    "\t\tEmployee.num_of_emps += 1 # don't use self, will be different for different unique instances.\n",
    "\n",
    "\t# Regular Methods\n",
    "\tdef print_full_name(self):\n",
    "\t\tprint ('{} {}'.format(self.first, self.last))\n",
    "\n",
    "\tdef apply_raise(self):\n",
    "\t\t# self.pay = int(self.pay*1.04)\n",
    "\t\tself.pay = int(self.pay * self.raise_amount)\n",
    "\t\n",
    "\t# Class Method\n",
    "\t@classmethod # this means that class is the first argument. cls used for convention (can't use class)\n",
    "\tdef set_raise_amt(cls, amount):\n",
    "\t\tcls.raise_amount = amount\n",
    "\t\n",
    "\t@classmethod\n",
    "\t# Alternative constructor from long string\n",
    "\tdef from_string(cls, emp_str):\n",
    "\t\tfirst, last, pay = emp_str.split(\"-\")\n",
    "\t\treturn cls(first, last, pay)\n",
    "\n",
    "\t@staticmethod\n",
    "\t# just takes in arguments in needs, for when you don't need to access the class.\n",
    "\tdef is_workday(day):\n",
    "\t\tif day.weekday() == 5 or  day.weekday() == 6: # Saturday or Sunday\n",
    "\t\t\treturn False\n",
    "\t\treturn True\n",
    "\t\t\t\t\n",
    "# Unique instance variables of employees (preferred)\n",
    "emp_1 = Employee(\"Corey\", \"Schafer\", 5000)\n",
    "emp_2 = Employee(\"Yanni\", \"Chau\", 10000)\n",
    "\n",
    "# Assign members manually\n",
    "emp_1.first = \"Corey\"\n",
    "emp_1.last = \"schafer\"\n",
    "emp_1.email = \"coreyschafer@company.com\"\n",
    "emp_1.pay = 5000\n",
    "\n",
    "# Call print method (2 ways)\n",
    "emp_1.print_full_name()\n",
    "Employee.print_full_name(emp_1)"
   ]
  },
  {
   "cell_type": "code",
   "execution_count": 2,
   "metadata": {
    "tags": []
   },
   "outputs": [
    {
     "output_type": "stream",
     "name": "stdout",
     "text": "{'first': 'Corey', 'last': 'schafer', 'pay': 5000, 'email': 'coreyschafer@company.com'}\n{'first': 'Yanni', 'last': 'Chau', 'pay': 10000, 'email': 'YanniChau@company.com'}\n"
    }
   ],
   "source": [
    "print(emp_1.__dict__)\n",
    "print(emp_2.__dict__)"
   ]
  },
  {
   "cell_type": "code",
   "execution_count": 3,
   "metadata": {
    "tags": []
   },
   "outputs": [
    {
     "output_type": "stream",
     "name": "stdout",
     "text": "{'__module__': '__main__', 'num_of_emps': 2, 'raise_amount': 1.04, '__init__': <function Employee.__init__ at 0x108771790>, 'print_full_name': <function Employee.print_full_name at 0x108771ca0>, 'apply_raise': <function Employee.apply_raise at 0x108771d30>, 'set_raise_amt': <classmethod object at 0x1087b5f70>, 'from_string': <classmethod object at 0x1087b5fa0>, 'is_workday': <staticmethod object at 0x1087b5fd0>, '__dict__': <attribute '__dict__' of 'Employee' objects>, '__weakref__': <attribute '__weakref__' of 'Employee' objects>, '__doc__': None}\n"
    }
   ],
   "source": [
    "print(Employee.__dict__)"
   ]
  },
  {
   "cell_type": "code",
   "execution_count": 4,
   "metadata": {
    "tags": []
   },
   "outputs": [
    {
     "output_type": "stream",
     "name": "stdout",
     "text": "{'first': 'Corey', 'last': 'schafer', 'pay': 5000, 'email': 'coreyschafer@company.com', 'raise_amount': 1.05}\n{'first': 'Yanni', 'last': 'Chau', 'pay': 10000, 'email': 'YanniChau@company.com'}\n"
    }
   ],
   "source": [
    "emp_1.raise_amount = 1.05\n",
    "print(emp_1.__dict__)\n",
    "print(emp_2.__dict__)"
   ]
  },
  {
   "cell_type": "code",
   "execution_count": 5,
   "metadata": {
    "tags": []
   },
   "outputs": [
    {
     "output_type": "stream",
     "name": "stdout",
     "text": "2\n"
    }
   ],
   "source": [
    "print(Employee.num_of_emps)"
   ]
  },
  {
   "source": [
    "# Class Methods and Static Methods\n",
    "\n",
    "Static methods are just regular functions within classes."
   ],
   "cell_type": "markdown",
   "metadata": {}
  },
  {
   "cell_type": "code",
   "execution_count": 6,
   "metadata": {
    "tags": []
   },
   "outputs": [
    {
     "output_type": "stream",
     "name": "stdout",
     "text": "1.04\n1.05\n1.04\n"
    }
   ],
   "source": [
    "print(Employee.raise_amount)\n",
    "print(emp_1.raise_amount)\n",
    "print(emp_2.raise_amount)"
   ]
  },
  {
   "cell_type": "code",
   "execution_count": 7,
   "metadata": {
    "tags": []
   },
   "outputs": [
    {
     "output_type": "stream",
     "name": "stdout",
     "text": "1.05\n1.05\n1.05\n"
    }
   ],
   "source": [
    "# both the same\n",
    "Employee.raise_amount = 1.05\n",
    "Employee.set_raise_amt(1.05)\n",
    "\n",
    "print(Employee.raise_amount)\n",
    "print(emp_1.raise_amount)\n",
    "print(emp_2.raise_amount)"
   ]
  },
  {
   "cell_type": "code",
   "execution_count": 8,
   "metadata": {},
   "outputs": [],
   "source": [
    "emp_str_1 = \"John-Doe-70000\"\n",
    "emp_str_2 = \"Steve-Smith-30000\"\n",
    "emp_str_3 = \"Jane-Doe-90000\"\n",
    "\n",
    "first, last, pay = emp_str_1.split(\"-\")\n",
    "new_emp_1 = Employee(first, last, pay)"
   ]
  },
  {
   "cell_type": "code",
   "execution_count": 9,
   "metadata": {
    "tags": []
   },
   "outputs": [
    {
     "output_type": "stream",
     "name": "stdout",
     "text": "False\n"
    }
   ],
   "source": [
    "import datetime\n",
    "my_date = datetime.date(2016, 7, 10)\n",
    "print(Employee.is_workday(my_date))"
   ]
  },
  {
   "source": [
    "# Inheritance and subclasses\n"
   ],
   "cell_type": "markdown",
   "metadata": {}
  }
 ]
}